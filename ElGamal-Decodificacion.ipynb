{
 "metadata": {
  "language_info": {
   "codemirror_mode": {
    "name": "ipython",
    "version": 3
   },
   "file_extension": ".py",
   "mimetype": "text/x-python",
   "name": "python",
   "nbconvert_exporter": "python",
   "pygments_lexer": "ipython3",
   "version": "3.9.5"
  },
  "orig_nbformat": 2,
  "kernelspec": {
   "name": "python395jvsc74a57bd0ce1e901da04acbe50dd99cd0d91cb411cb2166c3507dec81ce620981a8df4741",
   "display_name": "Python 3.9.5 64-bit"
  },
  "metadata": {
   "interpreter": {
    "hash": "ce1e901da04acbe50dd99cd0d91cb411cb2166c3507dec81ce620981a8df4741"
   }
  }
 },
 "nbformat": 4,
 "nbformat_minor": 2,
 "cells": [
  {
   "cell_type": "code",
   "execution_count": 10,
   "metadata": {},
   "outputs": [],
   "source": [
    "import numpy as np"
   ]
  },
  {
   "cell_type": "code",
   "execution_count": 11,
   "metadata": {},
   "outputs": [],
   "source": [
    "alf=\"abcdefghijklmnñopqrstuvwxyzABCDEFGHIJKLMNÑOPQRSTUVWXYZáéíóúÁÉÍÓÚ0123456789 ,.:!-¿?()\"\n",
    "n = len(alf)\n",
    "\n",
    "class Persona:\n",
    "    def __init__(self, p, g, x):\n",
    "        self.p = p\n",
    "        self.g = g\n",
    "        self.x = x\n",
    "        self.X = pow(g,x,p)\n",
    "\n",
    "Alica = Persona(33871,15,436)\n",
    "Benito = Persona(33871,15,899)\n",
    "\n",
    "receptor = Alica\n",
    "emisor = Benito"
   ]
  },
  {
   "source": [
    "# Decodificación\r\n",
    "## Una vez el Receptor obtiene la dupla $(X,C)$, \r\n",
    "## 1. División del mensaje en bloques de longitud k+1\r\n",
    "\r\n",
    "## 2. Paso de bloque a entero\r\n",
    "$$ m = M_1 * N^{k-1} + M_2 * N^{k-1} ... + M_k $$\r\n",
    "\r\n",
    "## 3. Decodificado ElGamal\r\n",
    "\r\n",
    "## 3.1 Calcula $K$\r\n",
    "  $$ K = X^{x_{Receptor}} \\mod p_{Receptor} $$\r\n",
    "\r\n",
    "## 3.2. Calcular el mensaje descifrado\r\n",
    "  $$ K^{-1} \\cdot C \\mod  p_{Receptor} $$\r\n",
    "\r\n",
    "## 4. Paso a texto en claro"
   ],
   "cell_type": "markdown",
   "metadata": {}
  },
  {
   "cell_type": "code",
   "execution_count": 12,
   "metadata": {},
   "outputs": [
    {
     "output_type": "stream",
     "name": "stdout",
     "text": [
      "k = 2\n['es9', 'b:Í', 'eTR', 'bL ', 'd8)', 'cÍj', 'c-r', 'ehñ', 'aM.', 'biG', 'c H', 'cER', 'dhW', 'apÉ', 'cW6', 'b:Í', 'eTR', 'bL ', 'd8)', 'cÍj', 'etí', 'deE', 'ehñ', 'bbC', 'a68', 'd8)', 'bÚá', 'eku', 'bWm', 'a0w', 'c:ú', 'a0w', 'b:Í', 'bÉó', 'b38', 'a0w', 'bVÓ', 'biG', 'aAv', 'cDb', 'cq1', 'blY', 'bLC', 'eeW', 'bDL', 'cÍj', 'cRd', 'cuÉ', 'eTR', 'eVZ', 'a68', 'dí)', 'enC', 'ctb', 'b9f', 'c62', 'cÍj', 'coR', 'aVA', 'c,W', 'cÍj', 'dhW', 'cwt', 'dÑE', 'ehñ', 'b9f', 'aqk', 'cÍj', 'd!2', 'biG', 'c0B', 'c62', 'a0w', 'eÉz', 'apÉ', 'cW6', 'dLw', 'cé.', 'cÍj', 'cni', 'cW6', 'db)', 'c),', 'bbg', 'd):', 'e20', 'bEo', 'a68', 'cÚr', 'aLF', 'b2B', 'cFé', 'd:B', 'b¿E', 'c:ú', 'eve', 'búd', 'c,W', 'b92', 'esS', 'd!2', 'b:Í', 'cwt', 'eák', 'd!2', 'd!2', 'aLF', 'c:ú', 'eve', 'bDe', 'c!i', 'bgI', 'dvh', 'ck8', 'eWñ', 'esS', 'aEr', 'eTR', 'd!2', 'aW,']\n"
     ]
    }
   ],
   "source": [
    "C = \"es9b:ÍeTRbL d8)cÍjc-rehñaM.biGc HcERdhWapÉcW6b:ÍeTRbL d8)cÍjetídeEehñbbCa68d8)bÚáekubWma0wc:úa0wb:ÍbÉób38a0wbVÓbiGaAvcDbcq1blYbLCeeWbDLcÍjcRdcuÉeTReVZa68dí)enCctbb9fc62cÍjcoRaVAc,WcÍjdhWcwtdÑEehñb9faqkcÍjd!2biGc0Bc62a0weÉzapÉcW6dLwcé.cÍjcnicW6db)c),bbgd):e20bEoa68cÚraLFb2BcFéd:Bb¿Ec:úevebúdc,Wb92esSd!2b:Ícwteákd!2d!2aLFc:úevebDec!ibgIdvhck8eWñesSaEreTRd!2aW,\"\n",
    "k = int(np.floor( np.log(float(receptor.p)) / np.log(n) ))\n",
    "print('k = ' + str(k))\n",
    "bloques = [C[i:i + k+1] for i in range(0, len(C), k+1)]\n",
    "print(bloques)"
   ]
  },
  {
   "cell_type": "code",
   "execution_count": 13,
   "metadata": {},
   "outputs": [
    {
     "output_type": "stream",
     "name": "stdout",
     "text": [
      "[29893, 13585, 32217, 10322, 27299, 19245, 20766, 28826, 3352, 7761, 20362, 16761, 21806, 1404, 18382, 13585, 32217, 10322, 27299, 19245, 29960, 21535, 28826, 7169, 5952, 27299, 12402, 29085, 11268, 5399, 20638, 5399, 13585, 12153, 12756, 5399, 11234, 7761, 2290, 16633, 15605, 8032, 10277, 28610, 9614, 19245, 17895, 15936, 32217, 32393, 5952, 25955, 29345, 15793, 13193, 20058, 19245, 15417, 4143, 20462, 19245, 21806, 16064, 24643, 28826, 13193, 1438, 19245, 27786, 7761, 19516, 20058, 5399, 33290, 1404, 18382, 24383, 18808, 19245, 15212, 18382, 21335, 21159, 7146, 28217, 33832, 9675, 5952, 19422, 3224, 12628, 16855, 27664, 13807, 20638, 30076, 11931, 20462, 13254, 29866, 27786, 13585, 16064, 32770, 27786, 27786, 3224, 20638, 30076, 9580, 20672, 7595, 23023, 15024, 32438, 29866, 2622, 32217, 27786, 4275]\n"
     ]
    }
   ],
   "source": [
    "enterosBloq = []\n",
    "for b in bloques:\n",
    "    num = 0\n",
    "    for i in range (k+1):\n",
    "        exp = k - i\n",
    "        if(i<len(b)):\n",
    "            num += alf.index(b[i]) * pow(n,exp)\n",
    "    \n",
    "    enterosBloq.append(num)\n",
    "print(enterosBloq)"
   ]
  },
  {
   "cell_type": "code",
   "execution_count": 14,
   "metadata": {},
   "outputs": [
    {
     "output_type": "stream",
     "name": "stdout",
     "text": [
      "[4045, 6221, 13, 1680, 1608, 74, 1516, 183, 1530, 410, 2625, 1527, 1344, 6542, 347, 6221, 13, 1680, 1608, 74, 256, 998, 183, 1029, 1100, 1608, 1336, 6263, 1263, 19, 6227, 19, 6221, 1768, 1538, 19, 6219, 410, 924, 6238, 676, 756, 6247, 1782, 1276, 74, 1600, 6223, 13, 6237, 1100, 267, 6220, 1166, 1596, 1112, 74, 186, 1790, 3, 74, 1344, 1512, 6216, 183, 1596, 1586, 74, 355, 410, 420, 1112, 19, 1008, 6542, 347, 6259, 16, 74, 2174, 347, 6242, 18, 6374, 3280, 1700, 354, 1100, 175, 6241, 6249, 1772, 2199, 1755, 6227, 1279, 6234, 3, 674, 11, 355, 6221, 1512, 1094, 355, 355, 6241, 6227, 1279, 6232, 1271, 698, 1273, 1684, 1670, 11, 348, 13, 355, 6458]\n"
     ]
    }
   ],
   "source": [
    "K = pow(emisor.X,receptor.x,receptor.p)\n",
    "enterosClaro = []\n",
    "for bloque in enterosBloq:\n",
    "    enterosClaro.append((pow(K,-1,receptor.p) * bloque) % receptor.p)\n",
    "print(enterosClaro)"
   ]
  },
  {
   "cell_type": "code",
   "execution_count": 15,
   "metadata": {},
   "outputs": [
    {
     "output_type": "stream",
     "name": "stdout",
     "text": [
      "Un fantasma recorre Europa: el fantasma del comunismo. Todas las fuerzas de la vieja Europa se han unido en santa cruzada para acosar a ese fantasma: el Papa y el zar, Metternich y Guizot, los radicales franceses y los polizontes alemanes. \n"
     ]
    }
   ],
   "source": [
    "msgClaro = \"\"\n",
    "for m in enterosClaro:\n",
    "    temp = m\n",
    "    num = []\n",
    "    for i in range (k):\n",
    "        num.append(temp % n)\n",
    "        temp = temp // n\n",
    "        if(temp <= n):\n",
    "            num.append(temp)\n",
    "            while(len(num)<k):\n",
    "               num.append(0)\n",
    "            break\n",
    "    num.reverse()\n",
    "    for i in num:\n",
    "        msgClaro += alf[int(i)]\n",
    "print(msgClaro)"
   ]
  }
 ]
}