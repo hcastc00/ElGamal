{
 "metadata": {
  "language_info": {
   "codemirror_mode": {
    "name": "ipython",
    "version": 3
   },
   "file_extension": ".py",
   "mimetype": "text/x-python",
   "name": "python",
   "nbconvert_exporter": "python",
   "pygments_lexer": "ipython3",
   "version": "3.9.5"
  },
  "orig_nbformat": 2,
  "kernelspec": {
   "name": "python395jvsc74a57bd0ce1e901da04acbe50dd99cd0d91cb411cb2166c3507dec81ce620981a8df4741",
   "display_name": "Python 3.9.5 64-bit"
  },
  "metadata": {
   "interpreter": {
    "hash": "ce1e901da04acbe50dd99cd0d91cb411cb2166c3507dec81ce620981a8df4741"
   }
  }
 },
 "nbformat": 4,
 "nbformat_minor": 2,
 "cells": [
  {
   "cell_type": "code",
   "execution_count": null,
   "metadata": {},
   "outputs": [],
   "source": [
    "import numpy as np"
   ]
  },
  {
   "source": [
    "# ElGamal - Encriptación"
   ],
   "cell_type": "markdown",
   "metadata": {}
  },
  {
   "source": [
    "## Datos\n",
    "- alf -> Alfabeto que se usará para la codificación\n",
    "- N -> Longitud del alfabeto"
   ],
   "cell_type": "markdown",
   "metadata": {}
  },
  {
   "cell_type": "code",
   "execution_count": null,
   "metadata": {},
   "outputs": [],
   "source": [
    "alf=\"abcdefghijklmnñopqrstuvwxyzABCDEFGHIJKLMNÑOPQRSTUVWXYZáéíóúÁÉÍÓÚ0123456789 ,.:!-¿?()\"\n",
    "n = len(alf)"
   ]
  },
  {
   "source": [
    "## Definimos las personas que tienen:\n",
    "- $p$ -> Número primo\n",
    "- $g$ -> Raíz primitiva $mod(p)$\n",
    "- $x$ -> Exponente $\\in \\{0, - , p-2\\} \\in \\mathbb Z_N$\n",
    "- $X$ -> $ g^x \\mod p $\n",
    "\n",
    "### La clave pública está formada por el conjunto $(p,g,X)$\n",
    "### La clave privada está formada por $x$\n"
   ],
   "cell_type": "markdown",
   "metadata": {}
  },
  {
   "cell_type": "code",
   "execution_count": null,
   "metadata": {},
   "outputs": [],
   "source": [
    "class Persona:\n",
    "    def __init__(self, p, g, x):\n",
    "        self.p = p\n",
    "        self.g = g\n",
    "        self.x = x\n",
    "        self.X = pow(g,x,p)"
   ]
  },
  {
   "cell_type": "code",
   "execution_count": null,
   "metadata": {},
   "outputs": [],
   "source": [
    "Alica = Persona(33871,15,436)\n",
    "Benito = Persona(33871,15,899)"
   ]
  },
  {
   "source": [
    "## Definimos el Emisor y Receptor además del mensaje a enviar\n",
    "### El mensaje consitirá en una cadena de texto perteneciente al alfabeto préviamente definido.abs\n",
    "### La aplicación para la codificación será:\n",
    "\n",
    "$$\n",
    "\\begin{array}{rccl}\n",
    "f \\colon & S \\subset alf & \\longrightarrow & \\mathbb{Z \\mod n}\\\\\n",
    "&\\alpha(i) & \\longmapsto &z = i\n",
    "\\end{array}\n",
    "$$\n",
    "\n",
    "### Es decir: cada caracter del mensaje, se codificará como el número de la posición que ocupa en el alfabeto."
   ],
   "cell_type": "markdown",
   "metadata": {}
  },
  {
   "cell_type": "code",
   "execution_count": null,
   "metadata": {},
   "outputs": [],
   "source": [
    "receptor = Alica\n",
    "emisor = Benito\n",
    "msg = \"Un fantasma recorre Europa: el fantasma del comunismo. Todas las fuerzas de la vieja Europa se han unido en santa cruzada para acosar a ese fantasma: el Papa y el zar, Metternich y Guizot, los radicales franceses y los polizontes alemanes.\""
   ]
  },
  {
   "source": [
    "### Cálculo de la longitud de bloque $k = \\lfloor{\\log_n (P)}\\rfloor$ y división en bloques"
   ],
   "cell_type": "markdown",
   "metadata": {}
  },
  {
   "cell_type": "code",
   "execution_count": null,
   "metadata": {},
   "outputs": [],
   "source": [
    "k = int(np.floor( np.log(float(receptor.p)) / np.log(n) ))\n",
    "print('k = ' + str(k))\n",
    "bloques = [msg[i : i + k] for i in range(0, len(msg), k)]\n",
    "print(bloques)"
   ]
  },
  {
   "source": [
    "## Paso de bloque a entero\n",
    "### $ m = M_1 * N^{k-1} + M_2 * N^{k-1} ... + M_k $"
   ],
   "cell_type": "markdown",
   "metadata": {}
  },
  {
   "cell_type": "code",
   "execution_count": null,
   "metadata": {},
   "outputs": [],
   "source": [
    "enterosBloq = []\n",
    "for b in bloques:\n",
    "    while(len(b) < k): b+=\" \"\n",
    "    b = b[::-1]\n",
    "    num = 0\n",
    "    for i in range (len(b)):\n",
    "        exp = i\n",
    "        num += alf.index(b[i]) * pow(n,exp)\n",
    "        #print(str(alf.index(b[i])) + ' * '+ str(n) + '^' + str(exp))\n",
    "\n",
    "    enterosBloq.append(num)\n",
    "print('Enteros bloque:' + str(enterosBloq))"
   ]
  },
  {
   "source": [
    "# Cifrado\n",
    "## En ElGamal, el crifrado, es el par $(X,C)$\n",
    " - Donde X es el X del emisor\n",
    " - C es el mensaje crifrado\n",
    "\n",
    " $ X_{Receptor}^{x_{Emisor}} \\cdot msgCod \\mod p_{Receptor} $\n"
   ],
   "cell_type": "markdown",
   "metadata": {}
  },
  {
   "cell_type": "code",
   "execution_count": null,
   "metadata": {
    "tags": []
   },
   "outputs": [],
   "source": [
    "c = []\n",
    "for bloque in enterosBloq:\n",
    "    c.append((pow(receptor.X,emisor.x) * bloque) % receptor.p) \n",
    "print(\"Enteros cifrados: \" + str(c))"
   ]
  },
  {
   "source": [
    "### Paso de bloques a texto"
   ],
   "cell_type": "markdown",
   "metadata": {}
  },
  {
   "cell_type": "code",
   "execution_count": null,
   "metadata": {},
   "outputs": [],
   "source": [
    "C = \"\"\n",
    "for m in c:\n",
    "    temp = m\n",
    "    num = []\n",
    "    for i in range (k):\n",
    "        num.append(temp % n)\n",
    "        temp = temp // n\n",
    "        if(temp <= n):\n",
    "            num.append(temp)\n",
    "            while(len(num)<k+1):\n",
    "                num.append(0)\n",
    "            break\n",
    "    num.reverse()\n",
    "    for i in num:\n",
    "        C += alf[int(i)]\n",
    "print(\"C -> \" + C)"
   ]
  }
 ]
}